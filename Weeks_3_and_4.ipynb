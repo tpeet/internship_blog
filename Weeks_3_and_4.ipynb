{
 "cells": [
  {
   "cell_type": "markdown",
   "metadata": {},
   "source": [
    "# INESC  TEC\n",
    "The Institute for Systems and Computer Engineering, Technology and Science or shortly called INESC TEC,  is an Associate Laboratory in the field of R&D and technology transfer. INESC TEC has several sites in Porto, Braga and Vila Real, incoporating 13 R&D Centres and having more than 700 researchers. INESC TEC was created to act as an interface between the academic world, the world of industry and services and the public administration in Information Technologies, Telecommunications and Electronics.\n",
    "\n",
    "## LIAAD\n",
    "LIAAD is one of the 13 R&D Centres in INESC TEC. The main topics of reasearch in LIAAD are Data Mining, Statistical Data Analysis, Operations Research and Mathematical Modeling. LIAAD has more than 60 researchers overall and is very active in scientific production. LIAAD is involved in several national and international projects and in knowledge transfer."
   ]
  },
  {
   "cell_type": "markdown",
   "metadata": {},
   "source": [
    "# Working in lab\n",
    "At the moment I haven't been asssigned to the team yet, although I have met my future team members. My workplace is in open office space with approximately 20 work places, where people are working on different topics in the field of Machine Learning. The researchers I have managed to met are with various background and nationacilities. There are people from all over the Portugal, but also from Germany, Brazil and Iran. \n",
    "\n",
    "I meet with my supervisor once or twice a week to discuss my progress and future plans. As getting familiar with the field of Machine Learning and writing a state of the art paper about music processing field is quite independent work, there is no need for every day support from supervisor(s)."
   ]
  },
  {
   "cell_type": "markdown",
   "metadata": {},
   "source": [
    "# Cultural differences\n",
    "As I have been working in Estonian software development company Netgroup for a year, it is good to compare the differences working in Estonia and Portugal. When going to work in Portugal at 9.30, there is only couple of people working and cleaning ladies are still cleaning the office. In Estonia something similar could be seen, when going to work 7.30. Most of people have arrived to work by 10.30 or 11.00. After 12 o'clock, there is lunch which is really important part for Portuguese people. After eating the lunch we are usually having a coffe outside and talking for about an half and hour. In Estonia the lunches were much faster, at least in my team. About 16.00 it is time for heading out and having a snack and another coffee, which usually does not happen in Estonia. The people start leaving the work after 18.00."
   ]
  },
  {
   "cell_type": "markdown",
   "metadata": {},
   "source": [
    "# Progress\n",
    "After the first four weeks, I finished the state of the art [paper](files/state-of-art.pdf) about music recommendations. In addition to reading dozens of research articles and doing some experiments, I also learned how to use LaTex for writing scientific documents.\n",
    "\n",
    "My next goal would be to write a paper for [conference](http://confsys.encs.concordia.ca/C3S2E/c3s2e16/c3s2e16.php) about the Tensorflow tool. Tensorflow is a Machine Learning library which Google uses for implementing their algorithms. I need to implement some Machine Learning algorithm releated to sound processing and describe the process in the paper. The current idea is to use a co-workers research and datasets to classify the sounds of frogs."
   ]
  }
 ],
 "metadata": {
  "kernelspec": {
   "display_name": "Python 2",
   "language": "python",
   "name": "python2"
  },
  "language_info": {
   "codemirror_mode": {
    "name": "ipython",
    "version": 2
   },
   "file_extension": ".py",
   "mimetype": "text/x-python",
   "name": "python",
   "nbconvert_exporter": "python",
   "pygments_lexer": "ipython2",
   "version": "2.7.6"
  }
 },
 "nbformat": 4,
 "nbformat_minor": 0
}
