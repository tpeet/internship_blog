{
 "cells": [
  {
   "cell_type": "markdown",
   "metadata": {},
   "source": [
    "## Seminars\n",
    "Our laboratory is frequently organizing seminars, where people are presenting their work. Usually the presenters are from our laboratory, but last time there was also a cyber security researcher from Poland, who presented his work on simulating computer viruses on infrastructurial IT systems. Until now, I have been to three seminars and heard the topics with which other research groups are dealing with. Some of these I understand, but some subjects are still too complex for me. More than likely, I am also presenting my work on one of those future seminars.\n",
    "\n",
    "I also noticed that it seems there are not a lot of researchers here, who are doing bachelors degree (or equal). When talking about different people about my work, they usually start assuming I'm doing postdoc or at least obtaining masters degree.\n",
    "\n",
    "# Progress\n",
    "Last weeks included more practical work and were therefore more interesting. On the 5th week of my internship I tried different algorithms for Music Genre recognition tasks, like  Convolutional Neural Networks and Autoencoders for automatic feature extraction. Several Python librarys were used, including Tensorflow, Theano and Keras.\n",
    "\n",
    "On the 6th week I concentrated on the frog sounds classification. I came up with a solution where the sound of frog call can be viewed as a picture. The advantage of this is that one can use different image recognition algorithms (which is a lot more investigated topic, than sound processing). The experiments I made during the week showed promising results and there is a lot more room to optimize the algorithms to achieve better results.\n",
    "\n",
    "The plan for the next week is to finish the conference paper and review the results of my work with my supervisor and Juan (the researcher, who is dealing with the same problem, but using different approach). \n",
    "\n"
   ]
  }
 ],
 "metadata": {
  "kernelspec": {
   "display_name": "Python 2",
   "language": "python",
   "name": "python2"
  },
  "language_info": {
   "codemirror_mode": {
    "name": "ipython",
    "version": 2
   },
   "file_extension": ".py",
   "mimetype": "text/x-python",
   "name": "python",
   "nbconvert_exporter": "python",
   "pygments_lexer": "ipython2",
   "version": "2.7.6"
  }
 },
 "nbformat": 4,
 "nbformat_minor": 0
}
