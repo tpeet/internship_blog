{
 "cells": [
  {
   "cell_type": "markdown",
   "metadata": {},
   "source": [
    "The topic of Machine Learning involves lot of new vocabulary and ideas for regular IT systems developer student. The same goes for sound processing and Music Information Retrival(MIR). That's why first 3-4 weeks of the internship are spent on studying Machine Learning (with more emphasis on Deep Learning) and Music Information Retrival. By the end of the 4th week I have finished a state of the art paper, which describes current technologies and methods used in MIR and music recommendation systems. \n",
    "\n",
    "From the following sections I am going to describe in more detail what I've learned in the first two weeks of my internship.\n"
   ]
  },
  {
   "cell_type": "markdown",
   "metadata": {},
   "source": [
    "# Machine Learning\n",
    "I started with a MOOC on Udacity - Machine Learning: Supervised learning (by Georgia Tech). The course taught the basics about decision trees, regression & classification, neural networks, SVM-s, Bayesian learning, etc... For more information, visit: https://www.udacity.com/course/machine-learning-supervised-learning--ud675\n",
    "\n",
    "Most of the ML features were implemented in Tensorflow and Python, but Scikit-learn package was also used, escpecially for preprocessing purposes. Tensorboard, which is a tool for visualising Tensorflow graphs and other data, was also studied during the proccess.\n",
    "\n",
    "## Deep Learning\n",
    "After finishing the course on Supervised learning, I started a new course on Udacity on Deep Learning (by Google). Compared to first course, which was mostly theory, it was the complete opposite. During this course I learned how to actually apply Neural Networks in Python and Tensorflow.\n",
    "\n",
    "The course started with preprocessing the data - pictures of letters with different fonts. During this the data was downloaded, extracted, normalized & standardized, randomly shuffeled, divided into training, test and validation sets and finally serialized and saved to a hard drive for later use.\n",
    "\n",
    "After this, the multinomial logistic regression using simple gradient descent was used for training with the accuracy of 84.5%. Adding 1 hidden layer and increasing step counts from 3000 to 5000 increased the accuracy to 90.1%. After adding second hidden layer, using regularization and learning rate decay an accuracy of 95.4% was achieved. Dropout was also tried, but it didn't seem to help. Close to 95% accuracy was also achieved when multi-layer convolutional networks were used with max pooling. The accuracy could be probably improved by spending more time on tweaking hyper parameters.\n"
   ]
  },
  {
   "cell_type": "markdown",
   "metadata": {},
   "source": [
    "# Music Information Retrival (MIR)\n",
    "There are many different options to get information from music. One of the most used techniques in MIR is Mel-frequency cepstral coefficients (MFCCs), which was the main technique I studied during my first two weeks. I also tried to apply it for music instruments recognition, but without success."
   ]
  },
  {
   "cell_type": "markdown",
   "metadata": {},
   "source": [
    "# Music Reccommendation Systems\n",
    "I read some papers about Music Reccomendation Systems and watched couple of seminar videos. The recommendation systems are usually divided into three:\n",
    "* Content-based filtering - analyzis of the audio signal\n",
    "* Collaborative filtering - getting information from user\n",
    "* Hybrid - combination of these two\n",
    "\n",
    "Most succesful system use the hybrid version. It is being thought that collaborative filtering is more efficient than content-based filtering. At the same time Content-"
   ]
  }
 ],
 "metadata": {
  "kernelspec": {
   "display_name": "Python 2",
   "language": "python",
   "name": "python2"
  },
  "language_info": {
   "codemirror_mode": {
    "name": "ipython",
    "version": 2
   },
   "file_extension": ".py",
   "mimetype": "text/x-python",
   "name": "python",
   "nbconvert_exporter": "python",
   "pygments_lexer": "ipython2",
   "version": "2.7.6"
  }
 },
 "nbformat": 4,
 "nbformat_minor": 0
}
