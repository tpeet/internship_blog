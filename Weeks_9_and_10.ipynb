{
 "cells": [
  {
   "cell_type": "markdown",
   "metadata": {},
   "source": [
    "## Progress\n",
    "During the last two weeks I made a lot of progress. I downloaded 70 GB of bird songs from 100 different species which have been recorded in Estonia. I used http://www.xeno-canto.org/ bird songs database and API to do it. I shared smaller subset of this to one of my supervisors, who has a student doing the same thing as me, but with African birds. They use totally different approach, so it is good to compare our results. \n",
    "\n",
    "I also managed to create an algorithm for analysing the bird songs which segments the audio into smaller segments. These segments are fed to the neural networks which can then classify which bird species created these sounds. I got some results, but there's still room to improve the algorithm for better results. \n",
    "\n",
    "Last week I introduced my work in a Sound and Music Group meeting, which is also part of INESC TEC. Their research involves human created music and sounds so I got some good suggestions for the signal processing part.\n",
    "\n",
    "During next weeks, I try to improve the performance of the neural networks. Currently the training of neural networks takes about an hour each time I change something, so I am going to use the time between algorithm runs to start developing the Android application. The hardest part is to implement my current work in Java, because the segmentation part and neural networks training is done in Python, but Android uses Java. I hope to get the first prototype ready by the end of this month."
   ]
  }
 ],
 "metadata": {
  "kernelspec": {
   "display_name": "Python 2",
   "language": "python",
   "name": "python2"
  },
  "language_info": {
   "codemirror_mode": {
    "name": "ipython",
    "version": 2
   },
   "file_extension": ".py",
   "mimetype": "text/x-python",
   "name": "python",
   "nbconvert_exporter": "python",
   "pygments_lexer": "ipython2",
   "version": "2.7.6"
  }
 },
 "nbformat": 4,
 "nbformat_minor": 0
}
