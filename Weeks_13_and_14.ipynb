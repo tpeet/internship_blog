{
 "cells": [
  {
   "cell_type": "markdown",
   "metadata": {},
   "source": [
    "On week 13 we got good news - the conference paper we wrote was accepted to the conference.\n",
    "\n",
    "## Progress\n",
    "On week 12 I got the Android app communicating with the Tensorflow model. By finishing this part, it took only couple hours to finish the prototype. The current prototype contains 10 bird species and gives the name of 3 species with the highest propabilities. It currently has three buttons for debuggin purpose for the whole process and isn't very fast, but all the parts needed for classification are working.\n",
    "\n",
    "On week 13, the plan was to set up an environment for doing experiments very easily. This let's to define the experiments to do and then run them all together without needing input from human. This means, that it's possible to concentrate on developing the android application while running the experiments.\n",
    "\n",
    "Because of the acceptance of the conference paper, it took some time to review the paper and make some changes for other authors to approve the changes. For this reason the original plans for week 13 weren't finished.\n",
    "\n",
    "The plans for next two weeks are quickly finish the code for doing the experiments and start developing the Android app, to make it faster and easier to use. Also the conference paper takes some time."
   ]
  }
 ],
 "metadata": {
  "kernelspec": {
   "display_name": "Python 2",
   "language": "python",
   "name": "python2"
  },
  "language_info": {
   "codemirror_mode": {
    "name": "ipython",
    "version": 2
   },
   "file_extension": ".py",
   "mimetype": "text/x-python",
   "name": "python",
   "nbconvert_exporter": "python",
   "pygments_lexer": "ipython2",
   "version": "2.7.6"
  }
 },
 "nbformat": 4,
 "nbformat_minor": 0
}
