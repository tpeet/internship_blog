{
 "cells": [
  {
   "cell_type": "markdown",
   "metadata": {},
   "source": [
    "## Work arrangements\n",
    "Officially, I am working 6 hours every work day (30 hr/week), but we have an unwritten agreement that I can have a 40h work weeks and then have a week off every month for traveling. As I find my work very interesting, I usually work even more than 40 hours per week (depends on the weather). The work hours are very flexible and it is possible to work remotely if there are no meetings or seminars. Most of the days I work in office, but couple of times and on some weekends I have worked from coffee places (which seems to be even more efficient for me). \n",
    "\n",
    "# Progress\n",
    "Last two weeks I mostly spent on writing the [conference paper](files/conference_paper.pdf). I got a lot of help from my co-worker Juan, whose problem I was using for applying my idea. He created some of the figures for the paper and generated some results to compare the efficency of his work with my proposed methods. My method showed good results and outperformed the algorithms he was using. After a lot of suggestions and help from Juan and my supervisors, I managed to submit the paper on time.\n",
    "\n",
    "On the second half of the 8th week I started looking into my new assignment (which I partly chose myself). I would like to create a mobile application for identifiyng Estonian bird species. To my knowledge there is no this kind of app in Estonia and no free version overall. \n",
    "\n",
    "Next weeks I'm dedicating for reading about the different approaches of bird classification tasks, collecting bird song recordings and trying to figure out how to preprocess data so I could use the same method described in my conference paper."
   ]
  }
 ],
 "metadata": {
  "kernelspec": {
   "display_name": "Python 2",
   "language": "python",
   "name": "python2"
  },
  "language_info": {
   "codemirror_mode": {
    "name": "ipython",
    "version": 2
   },
   "file_extension": ".py",
   "mimetype": "text/x-python",
   "name": "python",
   "nbconvert_exporter": "python",
   "pygments_lexer": "ipython2",
   "version": "2.7.6"
  }
 },
 "nbformat": 4,
 "nbformat_minor": 0
}
