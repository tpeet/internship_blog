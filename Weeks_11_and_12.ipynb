{
 "cells": [
  {
   "cell_type": "markdown",
   "metadata": {},
   "source": [
    "## Progress\n",
    "On week 11 a lot of work was done to get the segmentation working in Java. Althogh it took some time, it was easier than I was expecting. As I found no good library for getting the spectogram in the format I needed for segmentation, I needed to implement it myself. Luckily for futher image processing tasks the OpenCV library offered everything needed.\n",
    "\n",
    "On week 12 I started developing the Android application. This part turned out to be harder than expected. The tensorflow [android application](https://github.com/tensorflow/tensorflow/tree/master/tensorflow/examples/android) was taken as the basis on which I started building my application. The setup of the android application development environment, while using Tensorflow model, was quite complex as it took several days to get working correctly. By the end of the 12th week, a sound recording and it's segmentation was done.\n",
    "\n",
    "For the next week, the plan is to finish the prototype. The main problem is understanding of how to get information from Tensorflow model, which is difficult, because it involves communicating to C++ code, which in turn could use the Tensorflow model for predictions. Hopefully this can be done next week, so the prototype of the application could be finished by the end of the month."
   ]
  }
 ],
 "metadata": {
  "kernelspec": {
   "display_name": "Python 2",
   "language": "python",
   "name": "python2"
  },
  "language_info": {
   "codemirror_mode": {
    "name": "ipython",
    "version": 2
   },
   "file_extension": ".py",
   "mimetype": "text/x-python",
   "name": "python",
   "nbconvert_exporter": "python",
   "pygments_lexer": "ipython2",
   "version": "2.7.6"
  }
 },
 "nbformat": 4,
 "nbformat_minor": 0
}
